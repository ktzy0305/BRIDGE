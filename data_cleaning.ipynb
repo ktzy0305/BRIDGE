{
 "cells": [
  {
   "cell_type": "markdown",
   "metadata": {},
   "source": [
    "# Data Preparation"
   ]
  },
  {
   "cell_type": "markdown",
   "metadata": {},
   "source": [
    "This file contains Python Code used to clean the forum interactions data."
   ]
  },
  {
   "cell_type": "code",
   "execution_count": 1,
   "metadata": {},
   "outputs": [],
   "source": [
    "import pandas as pd"
   ]
  },
  {
   "cell_type": "code",
   "execution_count": 2,
   "metadata": {},
   "outputs": [
    {
     "data": {
      "text/plain": [
       "856"
      ]
     },
     "execution_count": 2,
     "metadata": {},
     "output_type": "execute_result"
    }
   ],
   "source": [
    "df = pd.read_csv(\"./data/forum/forum_data_sept_2024.csv\")\n",
    "df[\"topic_id\"].unique().size"
   ]
  },
  {
   "cell_type": "code",
   "execution_count": 3,
   "metadata": {},
   "outputs": [
    {
     "name": "stdout",
     "output_type": "stream",
     "text": [
      "START_INDEX = [0, 50, 100, 150, 200, 250, 300, 350, 400, 450, 500, 550]\n",
      "END_INDEX = [49, 99, 149, 199, 249, 299, 349, 399, 449, 499, 549, 594]\n",
      "BATCH_NO = [1, 2, 3, 4, 5, 6, 7, 8, 9, 10, 11, 12]\n"
     ]
    }
   ],
   "source": [
    "def get_batch_indices(num, batch_size):\n",
    "    start_indices = list(range(0, num, batch_size))\n",
    "    end_indices = [min(start + batch_size - 1, num - 1) for start in start_indices]\n",
    "    batch_numbers = list(range(1, len(start_indices) + 1))\n",
    "    return start_indices, end_indices, batch_numbers\n",
    "\n",
    "# Example usage\n",
    "NUM = 595\n",
    "BATCH_SIZE = 50\n",
    "start, end, batch = get_batch_indices(NUM, BATCH_SIZE)\n",
    "\n",
    "print(\"START_INDEX =\", start)\n",
    "print(\"END_INDEX =\", end)\n",
    "print(\"BATCH_NO =\", batch)\n"
   ]
  },
  {
   "cell_type": "markdown",
   "metadata": {},
   "source": [
    "## Data Cleaning"
   ]
  },
  {
   "cell_type": "markdown",
   "metadata": {},
   "source": [
    "### Removing Deleted Topics and Posts"
   ]
  },
  {
   "cell_type": "code",
   "execution_count": 4,
   "metadata": {},
   "outputs": [
    {
     "name": "stderr",
     "output_type": "stream",
     "text": [
      "/var/folders/y_/rndj94rn1vx273fk_jv5p_v80000gn/T/ipykernel_84811/3924387810.py:9: UserWarning: This pattern is interpreted as a regular expression, and has match groups. To actually get the groups, use str.extract.\n",
      "  new_df = new_df.drop(new_df[new_df[\"post_content\"].str.contains(\"(topic deleted by author)\")].index)\n",
      "/var/folders/y_/rndj94rn1vx273fk_jv5p_v80000gn/T/ipykernel_84811/3924387810.py:10: UserWarning: This pattern is interpreted as a regular expression, and has match groups. To actually get the groups, use str.extract.\n",
      "  new_df = new_df.drop(new_df[new_df[\"post_content\"].str.contains(\"(post deleted by author)\")].index)\n"
     ]
    }
   ],
   "source": [
    "professional_written_topic_ids = df[df[\"post_order\"] == 1][df[df[\"post_order\"] == 1][\"user_role\"] == \"Professional\"][\"topic_id\"]\n",
    "\n",
    "new_df = df.copy()\n",
    "\n",
    "drop_indices = new_df[new_df[\"topic_id\"].isin(professional_written_topic_ids)].index\n",
    "\n",
    "new_df = new_df.drop(drop_indices)\n",
    "new_df = new_df.drop(new_df[new_df[\"user_id\"] == -1].index)\n",
    "new_df = new_df.drop(new_df[new_df[\"post_content\"].str.contains(\"(topic deleted by author)\")].index)\n",
    "new_df = new_df.drop(new_df[new_df[\"post_content\"].str.contains(\"(post deleted by author)\")].index)"
   ]
  },
  {
   "cell_type": "code",
   "execution_count": 5,
   "metadata": {},
   "outputs": [
    {
     "data": {
      "text/plain": [
       "717"
      ]
     },
     "execution_count": 5,
     "metadata": {},
     "output_type": "execute_result"
    }
   ],
   "source": [
    "new_df[\"topic_id\"].unique().size"
   ]
  },
  {
   "cell_type": "markdown",
   "metadata": {},
   "source": [
    "### Remove Topics With No Discussions\n",
    "\n",
    "These topics only contain a single post, and no one has replied."
   ]
  },
  {
   "cell_type": "code",
   "execution_count": 6,
   "metadata": {},
   "outputs": [
    {
     "data": {
      "text/plain": [
       "Index([187, 767], dtype='int64')"
      ]
     },
     "execution_count": 6,
     "metadata": {},
     "output_type": "execute_result"
    }
   ],
   "source": [
    "single_post_topic_ids = new_df.groupby(\"topic_id\")[\"post_id\"].count().loc[lambda x : x <= 1].index\n",
    "drop_indices = new_df[new_df[\"topic_id\"].isin(single_post_topic_ids)].index\n",
    "drop_indices"
   ]
  },
  {
   "cell_type": "code",
   "execution_count": 7,
   "metadata": {},
   "outputs": [],
   "source": [
    "new_df = new_df.drop(drop_indices)"
   ]
  },
  {
   "cell_type": "code",
   "execution_count": 8,
   "metadata": {},
   "outputs": [
    {
     "data": {
      "text/plain": [
       "715"
      ]
     },
     "execution_count": 8,
     "metadata": {},
     "output_type": "execute_result"
    }
   ],
   "source": [
    "new_df[\"topic_id\"].unique().size"
   ]
  },
  {
   "cell_type": "markdown",
   "metadata": {},
   "source": [
    "## Data Selection\n",
    "\n",
    "We select a subset of the forum data. We first analyse the distribution of word counts in the first post of each topic"
   ]
  },
  {
   "cell_type": "code",
   "execution_count": 9,
   "metadata": {},
   "outputs": [
    {
     "data": {
      "text/plain": [
       "1       100\n",
       "7        73\n",
       "14      267\n",
       "23      137\n",
       "26      513\n",
       "       ... \n",
       "3273     33\n",
       "3275     85\n",
       "3277     49\n",
       "3280    183\n",
       "3282     26\n",
       "Name: post_content, Length: 715, dtype: int64"
      ]
     },
     "execution_count": 9,
     "metadata": {},
     "output_type": "execute_result"
    }
   ],
   "source": [
    "word_counts = new_df[new_df[\"post_order\"] == 1][\"post_content\"].apply(lambda x : len(x.split(\" \")))\n",
    "word_counts"
   ]
  },
  {
   "cell_type": "code",
   "execution_count": 10,
   "metadata": {},
   "outputs": [
    {
     "data": {
      "text/plain": [
       "np.int64(1644)"
      ]
     },
     "execution_count": 10,
     "metadata": {},
     "output_type": "execute_result"
    }
   ],
   "source": [
    "word_counts.max()"
   ]
  },
  {
   "cell_type": "markdown",
   "metadata": {},
   "source": [
    "### Understanding The Distribution"
   ]
  },
  {
   "cell_type": "code",
   "execution_count": 11,
   "metadata": {},
   "outputs": [
    {
     "data": {
      "image/png": "[encoded data removed]",
      "text/plain": [
       "<Figure size 800x600 with 1 Axes>"
      ]
     },
     "metadata": {},
     "output_type": "display_data"
    }
   ],
   "source": [
    "import matplotlib.pyplot as plt\n",
    "\n",
    "# Create the box plot\n",
    "plt.figure(figsize=(8, 6))\n",
    "box = plt.boxplot(word_counts, vert=False, patch_artist=True, showmeans=True, \n",
    "                  boxprops=dict(facecolor=\"lightblue\"))\n",
    "\n",
    "# Extract box plot statistics\n",
    "stats = {\n",
    "    \"25th Percentile\": word_counts.quantile(0.25),  # Q1\n",
    "    \"Median\": word_counts.median(),         # Median\n",
    "    \"Mean\": word_counts.mean(),             # Mean\n",
    "    \"75th Percentile\": word_counts.quantile(0.75),  # Q3\n",
    "}\n",
    "\n",
    "# Annotate the box plot\n",
    "# for label, value in stats.items():\n",
    "#     plt.text(value, 1, f\"{label}: {value:.1f}\", va='bottom' if label == \"Mean\" else 'top', fontsize=10)\n",
    "\n",
    "# Add labels and title\n",
    "plt.title(\"Box Plot of Word Counts with Percentiles\")\n",
    "plt.xlabel(\"Word Count\")\n",
    "plt.grid(axis='x')\n",
    "\n",
    "# Display the box plot\n",
    "plt.show()"
   ]
  },
  {
   "cell_type": "code",
   "execution_count": 12,
   "metadata": {},
   "outputs": [
    {
     "data": {
      "text/plain": [
       "np.float64(30.0)"
      ]
     },
     "execution_count": 12,
     "metadata": {},
     "output_type": "execute_result"
    }
   ],
   "source": [
    "word_counts.quantile(0.08)"
   ]
  },
  {
   "cell_type": "code",
   "execution_count": 13,
   "metadata": {},
   "outputs": [
    {
     "data": {
      "text/plain": [
       "np.float64(40.0)"
      ]
     },
     "execution_count": 13,
     "metadata": {},
     "output_type": "execute_result"
    }
   ],
   "source": [
    "word_counts.quantile(0.12)"
   ]
  },
  {
   "cell_type": "code",
   "execution_count": 14,
   "metadata": {},
   "outputs": [
    {
     "data": {
      "text/plain": [
       "np.float64(50.0)"
      ]
     },
     "execution_count": 14,
     "metadata": {},
     "output_type": "execute_result"
    }
   ],
   "source": [
    "word_counts.quantile(0.169)"
   ]
  },
  {
   "cell_type": "code",
   "execution_count": 15,
   "metadata": {},
   "outputs": [
    {
     "data": {
      "text/plain": [
       "np.float64(186.0)"
      ]
     },
     "execution_count": 15,
     "metadata": {},
     "output_type": "execute_result"
    }
   ],
   "source": [
    "word_counts.quantile(0.60)"
   ]
  },
  {
   "cell_type": "code",
   "execution_count": 16,
   "metadata": {},
   "outputs": [
    {
     "data": {
      "text/plain": [
       "{'25th Percentile': np.float64(68.0),\n",
       " 'Median': np.float64(144.0),\n",
       " 'Mean': np.float64(194.73846153846154),\n",
       " '75th Percentile': np.float64(267.0)}"
      ]
     },
     "execution_count": 16,
     "metadata": {},
     "output_type": "execute_result"
    }
   ],
   "source": [
    "stats"
   ]
  },
  {
   "cell_type": "code",
   "execution_count": 17,
   "metadata": {},
   "outputs": [
    {
     "data": {
      "text/plain": [
       "post_content\n",
       "True     687\n",
       "False     28\n",
       "Name: count, dtype: int64"
      ]
     },
     "execution_count": 17,
     "metadata": {},
     "output_type": "execute_result"
    }
   ],
   "source": [
    "condition = new_df[new_df[\"post_order\"] == 1][\"post_content\"].apply(lambda x : len(x.split(\" \"))) >= 20\n",
    "condition.value_counts()"
   ]
  },
  {
   "cell_type": "code",
   "execution_count": 18,
   "metadata": {},
   "outputs": [
    {
     "data": {
      "text/plain": [
       "post_content\n",
       "True     658\n",
       "False     57\n",
       "Name: count, dtype: int64"
      ]
     },
     "execution_count": 18,
     "metadata": {},
     "output_type": "execute_result"
    }
   ],
   "source": [
    "condition = new_df[new_df[\"post_order\"] == 1][\"post_content\"].apply(lambda x : len(x.split(\" \"))) >= 30\n",
    "condition.value_counts()"
   ]
  },
  {
   "cell_type": "code",
   "execution_count": 19,
   "metadata": {},
   "outputs": [
    {
     "data": {
      "text/plain": [
       "post_content\n",
       "True     632\n",
       "False     83\n",
       "Name: count, dtype: int64"
      ]
     },
     "execution_count": 19,
     "metadata": {},
     "output_type": "execute_result"
    }
   ],
   "source": [
    "condition = new_df[new_df[\"post_order\"] == 1][\"post_content\"].apply(lambda x : len(x.split(\" \"))) >= 40\n",
    "condition.value_counts()"
   ]
  },
  {
   "cell_type": "code",
   "execution_count": 20,
   "metadata": {},
   "outputs": [
    {
     "data": {
      "text/plain": [
       "post_content\n",
       "True     595\n",
       "False    120\n",
       "Name: count, dtype: int64"
      ]
     },
     "execution_count": 20,
     "metadata": {},
     "output_type": "execute_result"
    }
   ],
   "source": [
    "condition = new_df[new_df[\"post_order\"] == 1][\"post_content\"].apply(lambda x : len(x.split(\" \"))) >= 50\n",
    "condition.value_counts()"
   ]
  },
  {
   "cell_type": "code",
   "execution_count": 21,
   "metadata": {},
   "outputs": [
    {
     "data": {
      "text/plain": [
       "post_content\n",
       "True     537\n",
       "False    178\n",
       "Name: count, dtype: int64"
      ]
     },
     "execution_count": 21,
     "metadata": {},
     "output_type": "execute_result"
    }
   ],
   "source": [
    "condition = new_df[new_df[\"post_order\"] == 1][\"post_content\"].apply(lambda x : len(x.split(\" \"))) >= 68\n",
    "condition.value_counts()"
   ]
  },
  {
   "cell_type": "markdown",
   "metadata": {},
   "source": [
    "### Selected Condition"
   ]
  },
  {
   "cell_type": "code",
   "execution_count": 22,
   "metadata": {},
   "outputs": [
    {
     "data": {
      "text/plain": [
       "post_content\n",
       "True     595\n",
       "False    120\n",
       "Name: count, dtype: int64"
      ]
     },
     "execution_count": 22,
     "metadata": {},
     "output_type": "execute_result"
    }
   ],
   "source": [
    "condition = new_df[new_df[\"post_order\"] == 1][\"post_content\"].apply(lambda x : len(x.split(\" \"))) >= 50\n",
    "condition.value_counts()"
   ]
  },
  {
   "cell_type": "code",
   "execution_count": 23,
   "metadata": {},
   "outputs": [],
   "source": [
    "filtered_posts = new_df[new_df[\"post_order\"] == 1][condition]"
   ]
  },
  {
   "cell_type": "code",
   "execution_count": 24,
   "metadata": {},
   "outputs": [
    {
     "data": {
      "text/html": [
       "<div>\n",
       "<style scoped>\n",
       "    .dataframe tbody tr th:only-of-type {\n",
       "        vertical-align: middle;\n",
       "    }\n",
       "\n",
       "    .dataframe tbody tr th {\n",
       "        vertical-align: top;\n",
       "    }\n",
       "\n",
       "    .dataframe thead th {\n",
       "        text-align: right;\n",
       "    }\n",
       "</style>\n",
       "<table border=\"1\" class=\"dataframe\">\n",
       "  <thead>\n",
       "    <tr style=\"text-align: right;\">\n",
       "      <th></th>\n",
       "      <th>topic_id</th>\n",
       "      <th>topic</th>\n",
       "      <th>url</th>\n",
       "      <th>subcategory</th>\n",
       "      <th>tags</th>\n",
       "      <th>user_id</th>\n",
       "      <th>username</th>\n",
       "      <th>user_role</th>\n",
       "      <th>user_title</th>\n",
       "      <th>post_id</th>\n",
       "      <th>post_order</th>\n",
       "      <th>post_content</th>\n",
       "      <th>links_in_post</th>\n",
       "      <th>num_likes</th>\n",
       "      <th>accepted_ans_post_id</th>\n",
       "      <th>replied_to_post_id</th>\n",
       "      <th>replied_to_post_id_direct</th>\n",
       "      <th>replied_to_post_id_soft</th>\n",
       "      <th>quoted_post_id</th>\n",
       "    </tr>\n",
       "  </thead>\n",
       "  <tbody>\n",
       "    <tr>\n",
       "      <th>1</th>\n",
       "      <td>14809</td>\n",
       "      <td>Mentally isolated</td>\n",
       "      <td>https://letstalk.mindline.sg/t/mentally-isolat...</td>\n",
       "      <td>Is This Normal?</td>\n",
       "      <td>---</td>\n",
       "      <td>12128</td>\n",
       "      <td>Sonja</td>\n",
       "      <td>User</td>\n",
       "      <td>NaN</td>\n",
       "      <td>22902</td>\n",
       "      <td>1</td>\n",
       "      <td>I recently realised that friends and family ar...</td>\n",
       "      <td>NaN</td>\n",
       "      <td>0</td>\n",
       "      <td>22918.0</td>\n",
       "      <td>NaN</td>\n",
       "      <td>NaN</td>\n",
       "      <td>NaN</td>\n",
       "      <td>NaN</td>\n",
       "    </tr>\n",
       "    <tr>\n",
       "      <th>7</th>\n",
       "      <td>15133</td>\n",
       "      <td>How to cope with mistakes at work?</td>\n",
       "      <td>https://letstalk.mindline.sg/t/how-to-cope-wit...</td>\n",
       "      <td>Seeking Help</td>\n",
       "      <td>needadvice</td>\n",
       "      <td>12317</td>\n",
       "      <td>user1306</td>\n",
       "      <td>User</td>\n",
       "      <td>NaN</td>\n",
       "      <td>23644</td>\n",
       "      <td>1</td>\n",
       "      <td>I’ve been making few mistakes for the past 2 m...</td>\n",
       "      <td>NaN</td>\n",
       "      <td>0</td>\n",
       "      <td>NaN</td>\n",
       "      <td>NaN</td>\n",
       "      <td>NaN</td>\n",
       "      <td>NaN</td>\n",
       "      <td>NaN</td>\n",
       "    </tr>\n",
       "    <tr>\n",
       "      <th>14</th>\n",
       "      <td>15409</td>\n",
       "      <td>Counselling</td>\n",
       "      <td>https://letstalk.mindline.sg/t/counselling/15409</td>\n",
       "      <td>Is This Normal?</td>\n",
       "      <td>---</td>\n",
       "      <td>12564</td>\n",
       "      <td>anonymous394</td>\n",
       "      <td>User</td>\n",
       "      <td>NaN</td>\n",
       "      <td>24064</td>\n",
       "      <td>1</td>\n",
       "      <td>I’ve been feeling low and suicidal for some ti...</td>\n",
       "      <td>NaN</td>\n",
       "      <td>1</td>\n",
       "      <td>NaN</td>\n",
       "      <td>NaN</td>\n",
       "      <td>NaN</td>\n",
       "      <td>NaN</td>\n",
       "      <td>NaN</td>\n",
       "    </tr>\n",
       "    <tr>\n",
       "      <th>23</th>\n",
       "      <td>15434</td>\n",
       "      <td>overthinking please help</td>\n",
       "      <td>https://letstalk.mindline.sg/t/overthinking-pl...</td>\n",
       "      <td>Coping</td>\n",
       "      <td>---</td>\n",
       "      <td>12578</td>\n",
       "      <td>user1322</td>\n",
       "      <td>User</td>\n",
       "      <td>NaN</td>\n",
       "      <td>24114</td>\n",
       "      <td>1</td>\n",
       "      <td>I keep overthinking and im not sure how to sto...</td>\n",
       "      <td>NaN</td>\n",
       "      <td>0</td>\n",
       "      <td>NaN</td>\n",
       "      <td>NaN</td>\n",
       "      <td>NaN</td>\n",
       "      <td>NaN</td>\n",
       "      <td>NaN</td>\n",
       "    </tr>\n",
       "    <tr>\n",
       "      <th>26</th>\n",
       "      <td>15430</td>\n",
       "      <td>I’m exhausted</td>\n",
       "      <td>https://letstalk.mindline.sg/t/im-exhausted/15430</td>\n",
       "      <td>Seeking Help</td>\n",
       "      <td>---</td>\n",
       "      <td>12577</td>\n",
       "      <td>SLCBY</td>\n",
       "      <td>User</td>\n",
       "      <td>NaN</td>\n",
       "      <td>24107</td>\n",
       "      <td>1</td>\n",
       "      <td>I am tired. I feel down everyday. No mood in d...</td>\n",
       "      <td>NaN</td>\n",
       "      <td>0</td>\n",
       "      <td>NaN</td>\n",
       "      <td>NaN</td>\n",
       "      <td>NaN</td>\n",
       "      <td>NaN</td>\n",
       "      <td>NaN</td>\n",
       "    </tr>\n",
       "    <tr>\n",
       "      <th>...</th>\n",
       "      <td>...</td>\n",
       "      <td>...</td>\n",
       "      <td>...</td>\n",
       "      <td>...</td>\n",
       "      <td>...</td>\n",
       "      <td>...</td>\n",
       "      <td>...</td>\n",
       "      <td>...</td>\n",
       "      <td>...</td>\n",
       "      <td>...</td>\n",
       "      <td>...</td>\n",
       "      <td>...</td>\n",
       "      <td>...</td>\n",
       "      <td>...</td>\n",
       "      <td>...</td>\n",
       "      <td>...</td>\n",
       "      <td>...</td>\n",
       "      <td>...</td>\n",
       "      <td>...</td>\n",
       "    </tr>\n",
       "    <tr>\n",
       "      <th>3257</th>\n",
       "      <td>422</td>\n",
       "      <td>Is it okay for me to feel this way?</td>\n",
       "      <td>https://letstalk.mindline.sg/t/is-it-okay-for-...</td>\n",
       "      <td>Is This Normal?</td>\n",
       "      <td>---</td>\n",
       "      <td>109</td>\n",
       "      <td>choc_kitkat</td>\n",
       "      <td>User</td>\n",
       "      <td>NaN</td>\n",
       "      <td>666</td>\n",
       "      <td>1</td>\n",
       "      <td>After seeking help from counsellors at TP, I f...</td>\n",
       "      <td>NaN</td>\n",
       "      <td>0</td>\n",
       "      <td>NaN</td>\n",
       "      <td>NaN</td>\n",
       "      <td>NaN</td>\n",
       "      <td>NaN</td>\n",
       "      <td>NaN</td>\n",
       "    </tr>\n",
       "    <tr>\n",
       "      <th>3260</th>\n",
       "      <td>481</td>\n",
       "      <td>Feeling Burnt Out</td>\n",
       "      <td>https://letstalk.mindline.sg/t/feeling-burnt-o...</td>\n",
       "      <td>Seeking Help</td>\n",
       "      <td>---</td>\n",
       "      <td>104</td>\n",
       "      <td>strawberryshortcake</td>\n",
       "      <td>User</td>\n",
       "      <td>NaN</td>\n",
       "      <td>782</td>\n",
       "      <td>1</td>\n",
       "      <td>It feels like the semester has just started no...</td>\n",
       "      <td>NaN</td>\n",
       "      <td>0</td>\n",
       "      <td>NaN</td>\n",
       "      <td>NaN</td>\n",
       "      <td>NaN</td>\n",
       "      <td>NaN</td>\n",
       "      <td>NaN</td>\n",
       "    </tr>\n",
       "    <tr>\n",
       "      <th>3271</th>\n",
       "      <td>424</td>\n",
       "      <td>I feel so lonely at nights</td>\n",
       "      <td>https://letstalk.mindline.sg/t/i-feel-so-lonel...</td>\n",
       "      <td>Is This Normal?</td>\n",
       "      <td>---</td>\n",
       "      <td>94</td>\n",
       "      <td>Kitty</td>\n",
       "      <td>User</td>\n",
       "      <td>NaN</td>\n",
       "      <td>669</td>\n",
       "      <td>1</td>\n",
       "      <td>I’m naturally an introvert and don’t like to t...</td>\n",
       "      <td>NaN</td>\n",
       "      <td>4</td>\n",
       "      <td>NaN</td>\n",
       "      <td>NaN</td>\n",
       "      <td>NaN</td>\n",
       "      <td>NaN</td>\n",
       "      <td>NaN</td>\n",
       "    </tr>\n",
       "    <tr>\n",
       "      <th>3275</th>\n",
       "      <td>397</td>\n",
       "      <td>Thinking about the first step</td>\n",
       "      <td>https://letstalk.mindline.sg/t/thinking-about-...</td>\n",
       "      <td>Seeking Help</td>\n",
       "      <td>---</td>\n",
       "      <td>82</td>\n",
       "      <td>Irsdi</td>\n",
       "      <td>User</td>\n",
       "      <td>NaN</td>\n",
       "      <td>628</td>\n",
       "      <td>1</td>\n",
       "      <td>Is it normal for me to hesitate to seek for pr...</td>\n",
       "      <td>NaN</td>\n",
       "      <td>1</td>\n",
       "      <td>NaN</td>\n",
       "      <td>NaN</td>\n",
       "      <td>NaN</td>\n",
       "      <td>NaN</td>\n",
       "      <td>NaN</td>\n",
       "    </tr>\n",
       "    <tr>\n",
       "      <th>3280</th>\n",
       "      <td>312</td>\n",
       "      <td>What do I do in between therapy sessions?</td>\n",
       "      <td>https://letstalk.mindline.sg/t/what-do-i-do-in...</td>\n",
       "      <td>Treatment &amp; Recovery</td>\n",
       "      <td>mentalhealth, therapy, healing</td>\n",
       "      <td>64</td>\n",
       "      <td>mrpeanutbutter</td>\n",
       "      <td>User</td>\n",
       "      <td>NaN</td>\n",
       "      <td>449</td>\n",
       "      <td>1</td>\n",
       "      <td>I realise this sounds ridiculous, but my issue...</td>\n",
       "      <td>NaN</td>\n",
       "      <td>0</td>\n",
       "      <td>NaN</td>\n",
       "      <td>NaN</td>\n",
       "      <td>NaN</td>\n",
       "      <td>NaN</td>\n",
       "      <td>NaN</td>\n",
       "    </tr>\n",
       "  </tbody>\n",
       "</table>\n",
       "<p>595 rows × 19 columns</p>\n",
       "</div>"
      ],
      "text/plain": [
       "      topic_id                                      topic  \\\n",
       "1        14809                          Mentally isolated   \n",
       "7        15133         How to cope with mistakes at work?   \n",
       "14       15409                                Counselling   \n",
       "23       15434                   overthinking please help   \n",
       "26       15430                              I’m exhausted   \n",
       "...        ...                                        ...   \n",
       "3257       422        Is it okay for me to feel this way?   \n",
       "3260       481                          Feeling Burnt Out   \n",
       "3271       424                 I feel so lonely at nights   \n",
       "3275       397              Thinking about the first step   \n",
       "3280       312  What do I do in between therapy sessions?   \n",
       "\n",
       "                                                    url           subcategory  \\\n",
       "1     https://letstalk.mindline.sg/t/mentally-isolat...       Is This Normal?   \n",
       "7     https://letstalk.mindline.sg/t/how-to-cope-wit...          Seeking Help   \n",
       "14     https://letstalk.mindline.sg/t/counselling/15409       Is This Normal?   \n",
       "23    https://letstalk.mindline.sg/t/overthinking-pl...                Coping   \n",
       "26    https://letstalk.mindline.sg/t/im-exhausted/15430          Seeking Help   \n",
       "...                                                 ...                   ...   \n",
       "3257  https://letstalk.mindline.sg/t/is-it-okay-for-...       Is This Normal?   \n",
       "3260  https://letstalk.mindline.sg/t/feeling-burnt-o...          Seeking Help   \n",
       "3271  https://letstalk.mindline.sg/t/i-feel-so-lonel...       Is This Normal?   \n",
       "3275  https://letstalk.mindline.sg/t/thinking-about-...          Seeking Help   \n",
       "3280  https://letstalk.mindline.sg/t/what-do-i-do-in...  Treatment & Recovery   \n",
       "\n",
       "                                tags  user_id             username user_role  \\\n",
       "1                                ---    12128                Sonja      User   \n",
       "7                         needadvice    12317             user1306      User   \n",
       "14                               ---    12564         anonymous394      User   \n",
       "23                               ---    12578             user1322      User   \n",
       "26                               ---    12577                SLCBY      User   \n",
       "...                              ...      ...                  ...       ...   \n",
       "3257                             ---      109          choc_kitkat      User   \n",
       "3260                             ---      104  strawberryshortcake      User   \n",
       "3271                             ---       94                Kitty      User   \n",
       "3275                             ---       82                Irsdi      User   \n",
       "3280  mentalhealth, therapy, healing       64       mrpeanutbutter      User   \n",
       "\n",
       "     user_title  post_id  post_order  \\\n",
       "1           NaN    22902           1   \n",
       "7           NaN    23644           1   \n",
       "14          NaN    24064           1   \n",
       "23          NaN    24114           1   \n",
       "26          NaN    24107           1   \n",
       "...         ...      ...         ...   \n",
       "3257        NaN      666           1   \n",
       "3260        NaN      782           1   \n",
       "3271        NaN      669           1   \n",
       "3275        NaN      628           1   \n",
       "3280        NaN      449           1   \n",
       "\n",
       "                                           post_content links_in_post  \\\n",
       "1     I recently realised that friends and family ar...           NaN   \n",
       "7     I’ve been making few mistakes for the past 2 m...           NaN   \n",
       "14    I’ve been feeling low and suicidal for some ti...           NaN   \n",
       "23    I keep overthinking and im not sure how to sto...           NaN   \n",
       "26    I am tired. I feel down everyday. No mood in d...           NaN   \n",
       "...                                                 ...           ...   \n",
       "3257  After seeking help from counsellors at TP, I f...           NaN   \n",
       "3260  It feels like the semester has just started no...           NaN   \n",
       "3271  I’m naturally an introvert and don’t like to t...           NaN   \n",
       "3275  Is it normal for me to hesitate to seek for pr...           NaN   \n",
       "3280  I realise this sounds ridiculous, but my issue...           NaN   \n",
       "\n",
       "      num_likes  accepted_ans_post_id replied_to_post_id  \\\n",
       "1             0               22918.0                NaN   \n",
       "7             0                   NaN                NaN   \n",
       "14            1                   NaN                NaN   \n",
       "23            0                   NaN                NaN   \n",
       "26            0                   NaN                NaN   \n",
       "...         ...                   ...                ...   \n",
       "3257          0                   NaN                NaN   \n",
       "3260          0                   NaN                NaN   \n",
       "3271          4                   NaN                NaN   \n",
       "3275          1                   NaN                NaN   \n",
       "3280          0                   NaN                NaN   \n",
       "\n",
       "      replied_to_post_id_direct  replied_to_post_id_soft quoted_post_id  \n",
       "1                           NaN                      NaN            NaN  \n",
       "7                           NaN                      NaN            NaN  \n",
       "14                          NaN                      NaN            NaN  \n",
       "23                          NaN                      NaN            NaN  \n",
       "26                          NaN                      NaN            NaN  \n",
       "...                         ...                      ...            ...  \n",
       "3257                        NaN                      NaN            NaN  \n",
       "3260                        NaN                      NaN            NaN  \n",
       "3271                        NaN                      NaN            NaN  \n",
       "3275                        NaN                      NaN            NaN  \n",
       "3280                        NaN                      NaN            NaN  \n",
       "\n",
       "[595 rows x 19 columns]"
      ]
     },
     "execution_count": 24,
     "metadata": {},
     "output_type": "execute_result"
    }
   ],
   "source": [
    "filtered_posts"
   ]
  },
  {
   "cell_type": "markdown",
   "metadata": {},
   "source": [
    "### Get The Filtered Topic IDs and Create Forum Dataframe For Dialogue Generation"
   ]
  },
  {
   "cell_type": "code",
   "execution_count": 25,
   "metadata": {},
   "outputs": [],
   "source": [
    "filtered_topic_ids = filtered_posts[\"topic_id\"].unique().tolist()"
   ]
  },
  {
   "cell_type": "code",
   "execution_count": 26,
   "metadata": {},
   "outputs": [
    {
     "data": {
      "text/plain": [
       "595"
      ]
     },
     "execution_count": 26,
     "metadata": {},
     "output_type": "execute_result"
    }
   ],
   "source": [
    "len(filtered_topic_ids)"
   ]
  },
  {
   "cell_type": "code",
   "execution_count": 27,
   "metadata": {},
   "outputs": [],
   "source": [
    "new_df_filtered = new_df[new_df[\"topic_id\"].isin(filtered_topic_ids)]"
   ]
  },
  {
   "cell_type": "code",
   "execution_count": 28,
   "metadata": {},
   "outputs": [
    {
     "data": {
      "text/html": [
       "<div>\n",
       "<style scoped>\n",
       "    .dataframe tbody tr th:only-of-type {\n",
       "        vertical-align: middle;\n",
       "    }\n",
       "\n",
       "    .dataframe tbody tr th {\n",
       "        vertical-align: top;\n",
       "    }\n",
       "\n",
       "    .dataframe thead th {\n",
       "        text-align: right;\n",
       "    }\n",
       "</style>\n",
       "<table border=\"1\" class=\"dataframe\">\n",
       "  <thead>\n",
       "    <tr style=\"text-align: right;\">\n",
       "      <th></th>\n",
       "      <th>topic_id</th>\n",
       "      <th>topic</th>\n",
       "      <th>url</th>\n",
       "      <th>subcategory</th>\n",
       "      <th>tags</th>\n",
       "      <th>user_id</th>\n",
       "      <th>username</th>\n",
       "      <th>user_role</th>\n",
       "      <th>user_title</th>\n",
       "      <th>post_id</th>\n",
       "      <th>post_order</th>\n",
       "      <th>post_content</th>\n",
       "      <th>links_in_post</th>\n",
       "      <th>num_likes</th>\n",
       "      <th>accepted_ans_post_id</th>\n",
       "      <th>replied_to_post_id</th>\n",
       "      <th>replied_to_post_id_direct</th>\n",
       "      <th>replied_to_post_id_soft</th>\n",
       "      <th>quoted_post_id</th>\n",
       "    </tr>\n",
       "  </thead>\n",
       "  <tbody>\n",
       "    <tr>\n",
       "      <th>1</th>\n",
       "      <td>14809</td>\n",
       "      <td>Mentally isolated</td>\n",
       "      <td>https://letstalk.mindline.sg/t/mentally-isolat...</td>\n",
       "      <td>Is This Normal?</td>\n",
       "      <td>---</td>\n",
       "      <td>12128</td>\n",
       "      <td>Sonja</td>\n",
       "      <td>User</td>\n",
       "      <td>NaN</td>\n",
       "      <td>22902</td>\n",
       "      <td>1</td>\n",
       "      <td>I recently realised that friends and family ar...</td>\n",
       "      <td>NaN</td>\n",
       "      <td>0</td>\n",
       "      <td>22918.0</td>\n",
       "      <td>NaN</td>\n",
       "      <td>NaN</td>\n",
       "      <td>NaN</td>\n",
       "      <td>NaN</td>\n",
       "    </tr>\n",
       "    <tr>\n",
       "      <th>2</th>\n",
       "      <td>14809</td>\n",
       "      <td>Mentally isolated</td>\n",
       "      <td>https://letstalk.mindline.sg/t/mentally-isolat...</td>\n",
       "      <td>Is This Normal?</td>\n",
       "      <td>---</td>\n",
       "      <td>11047</td>\n",
       "      <td>CaringBee</td>\n",
       "      <td>Professional</td>\n",
       "      <td>The Source of Comfort</td>\n",
       "      <td>22918</td>\n",
       "      <td>2</td>\n",
       "      <td>Hi Sonja\\nThank you for your courage to reach ...</td>\n",
       "      <td>NaN</td>\n",
       "      <td>0</td>\n",
       "      <td>NaN</td>\n",
       "      <td>NaN</td>\n",
       "      <td>NaN</td>\n",
       "      <td>NaN</td>\n",
       "      <td>NaN</td>\n",
       "    </tr>\n",
       "    <tr>\n",
       "      <th>3</th>\n",
       "      <td>14809</td>\n",
       "      <td>Mentally isolated</td>\n",
       "      <td>https://letstalk.mindline.sg/t/mentally-isolat...</td>\n",
       "      <td>Is This Normal?</td>\n",
       "      <td>---</td>\n",
       "      <td>12128</td>\n",
       "      <td>Sonja</td>\n",
       "      <td>User</td>\n",
       "      <td>NaN</td>\n",
       "      <td>24145</td>\n",
       "      <td>3</td>\n",
       "      <td>Thank you for the much appreciated advice! Sad...</td>\n",
       "      <td>NaN</td>\n",
       "      <td>0</td>\n",
       "      <td>NaN</td>\n",
       "      <td>NaN</td>\n",
       "      <td>NaN</td>\n",
       "      <td>NaN</td>\n",
       "      <td>NaN</td>\n",
       "    </tr>\n",
       "    <tr>\n",
       "      <th>4</th>\n",
       "      <td>14809</td>\n",
       "      <td>Mentally isolated</td>\n",
       "      <td>https://letstalk.mindline.sg/t/mentally-isolat...</td>\n",
       "      <td>Is This Normal?</td>\n",
       "      <td>---</td>\n",
       "      <td>12289</td>\n",
       "      <td>terravolt43</td>\n",
       "      <td>User</td>\n",
       "      <td>NaN</td>\n",
       "      <td>24154</td>\n",
       "      <td>4</td>\n",
       "      <td>Hi Sonja,\\nThanks for confiding here. Sorry to...</td>\n",
       "      <td>NaN</td>\n",
       "      <td>0</td>\n",
       "      <td>NaN</td>\n",
       "      <td>NaN</td>\n",
       "      <td>NaN</td>\n",
       "      <td>NaN</td>\n",
       "      <td>NaN</td>\n",
       "    </tr>\n",
       "    <tr>\n",
       "      <th>7</th>\n",
       "      <td>15133</td>\n",
       "      <td>How to cope with mistakes at work?</td>\n",
       "      <td>https://letstalk.mindline.sg/t/how-to-cope-wit...</td>\n",
       "      <td>Seeking Help</td>\n",
       "      <td>needadvice</td>\n",
       "      <td>12317</td>\n",
       "      <td>user1306</td>\n",
       "      <td>User</td>\n",
       "      <td>NaN</td>\n",
       "      <td>23644</td>\n",
       "      <td>1</td>\n",
       "      <td>I’ve been making few mistakes for the past 2 m...</td>\n",
       "      <td>NaN</td>\n",
       "      <td>0</td>\n",
       "      <td>NaN</td>\n",
       "      <td>NaN</td>\n",
       "      <td>NaN</td>\n",
       "      <td>NaN</td>\n",
       "      <td>NaN</td>\n",
       "    </tr>\n",
       "    <tr>\n",
       "      <th>...</th>\n",
       "      <td>...</td>\n",
       "      <td>...</td>\n",
       "      <td>...</td>\n",
       "      <td>...</td>\n",
       "      <td>...</td>\n",
       "      <td>...</td>\n",
       "      <td>...</td>\n",
       "      <td>...</td>\n",
       "      <td>...</td>\n",
       "      <td>...</td>\n",
       "      <td>...</td>\n",
       "      <td>...</td>\n",
       "      <td>...</td>\n",
       "      <td>...</td>\n",
       "      <td>...</td>\n",
       "      <td>...</td>\n",
       "      <td>...</td>\n",
       "      <td>...</td>\n",
       "      <td>...</td>\n",
       "    </tr>\n",
       "    <tr>\n",
       "      <th>3272</th>\n",
       "      <td>424</td>\n",
       "      <td>I feel so lonely at nights</td>\n",
       "      <td>https://letstalk.mindline.sg/t/i-feel-so-lonel...</td>\n",
       "      <td>Is This Normal?</td>\n",
       "      <td>---</td>\n",
       "      <td>61</td>\n",
       "      <td>JasonQ</td>\n",
       "      <td>User</td>\n",
       "      <td>Professional (Moderator)</td>\n",
       "      <td>671</td>\n",
       "      <td>2</td>\n",
       "      <td>Hi there; thank you for sharing your situation...</td>\n",
       "      <td>THE BUTTERFLY EFFECT: HOW SMALL CHANGES LEAD T...</td>\n",
       "      <td>0</td>\n",
       "      <td>NaN</td>\n",
       "      <td>NaN</td>\n",
       "      <td>NaN</td>\n",
       "      <td>NaN</td>\n",
       "      <td>NaN</td>\n",
       "    </tr>\n",
       "    <tr>\n",
       "      <th>3275</th>\n",
       "      <td>397</td>\n",
       "      <td>Thinking about the first step</td>\n",
       "      <td>https://letstalk.mindline.sg/t/thinking-about-...</td>\n",
       "      <td>Seeking Help</td>\n",
       "      <td>---</td>\n",
       "      <td>82</td>\n",
       "      <td>Irsdi</td>\n",
       "      <td>User</td>\n",
       "      <td>NaN</td>\n",
       "      <td>628</td>\n",
       "      <td>1</td>\n",
       "      <td>Is it normal for me to hesitate to seek for pr...</td>\n",
       "      <td>NaN</td>\n",
       "      <td>1</td>\n",
       "      <td>NaN</td>\n",
       "      <td>NaN</td>\n",
       "      <td>NaN</td>\n",
       "      <td>NaN</td>\n",
       "      <td>NaN</td>\n",
       "    </tr>\n",
       "    <tr>\n",
       "      <th>3276</th>\n",
       "      <td>397</td>\n",
       "      <td>Thinking about the first step</td>\n",
       "      <td>https://letstalk.mindline.sg/t/thinking-about-...</td>\n",
       "      <td>Seeking Help</td>\n",
       "      <td>---</td>\n",
       "      <td>61</td>\n",
       "      <td>JasonQ</td>\n",
       "      <td>User</td>\n",
       "      <td>Professional (Moderator)</td>\n",
       "      <td>629</td>\n",
       "      <td>2</td>\n",
       "      <td>Hi there, thank you for raising this question....</td>\n",
       "      <td>13 Tips to Help You Prepare for Your First The...</td>\n",
       "      <td>0</td>\n",
       "      <td>NaN</td>\n",
       "      <td>NaN</td>\n",
       "      <td>NaN</td>\n",
       "      <td>NaN</td>\n",
       "      <td>NaN</td>\n",
       "    </tr>\n",
       "    <tr>\n",
       "      <th>3280</th>\n",
       "      <td>312</td>\n",
       "      <td>What do I do in between therapy sessions?</td>\n",
       "      <td>https://letstalk.mindline.sg/t/what-do-i-do-in...</td>\n",
       "      <td>Treatment &amp; Recovery</td>\n",
       "      <td>mentalhealth, therapy, healing</td>\n",
       "      <td>64</td>\n",
       "      <td>mrpeanutbutter</td>\n",
       "      <td>User</td>\n",
       "      <td>NaN</td>\n",
       "      <td>449</td>\n",
       "      <td>1</td>\n",
       "      <td>I realise this sounds ridiculous, but my issue...</td>\n",
       "      <td>NaN</td>\n",
       "      <td>0</td>\n",
       "      <td>NaN</td>\n",
       "      <td>NaN</td>\n",
       "      <td>NaN</td>\n",
       "      <td>NaN</td>\n",
       "      <td>NaN</td>\n",
       "    </tr>\n",
       "    <tr>\n",
       "      <th>3281</th>\n",
       "      <td>312</td>\n",
       "      <td>What do I do in between therapy sessions?</td>\n",
       "      <td>https://letstalk.mindline.sg/t/what-do-i-do-in...</td>\n",
       "      <td>Treatment &amp; Recovery</td>\n",
       "      <td>mentalhealth, therapy, healing</td>\n",
       "      <td>42</td>\n",
       "      <td>tehbing</td>\n",
       "      <td>User</td>\n",
       "      <td>Professional (Moderator)</td>\n",
       "      <td>453</td>\n",
       "      <td>2</td>\n",
       "      <td>Hello there. First off, there’s absolutely not...</td>\n",
       "      <td>NaN</td>\n",
       "      <td>4</td>\n",
       "      <td>NaN</td>\n",
       "      <td>NaN</td>\n",
       "      <td>NaN</td>\n",
       "      <td>NaN</td>\n",
       "      <td>NaN</td>\n",
       "    </tr>\n",
       "  </tbody>\n",
       "</table>\n",
       "<p>2393 rows × 19 columns</p>\n",
       "</div>"
      ],
      "text/plain": [
       "      topic_id                                      topic  \\\n",
       "1        14809                          Mentally isolated   \n",
       "2        14809                          Mentally isolated   \n",
       "3        14809                          Mentally isolated   \n",
       "4        14809                          Mentally isolated   \n",
       "7        15133         How to cope with mistakes at work?   \n",
       "...        ...                                        ...   \n",
       "3272       424                 I feel so lonely at nights   \n",
       "3275       397              Thinking about the first step   \n",
       "3276       397              Thinking about the first step   \n",
       "3280       312  What do I do in between therapy sessions?   \n",
       "3281       312  What do I do in between therapy sessions?   \n",
       "\n",
       "                                                    url           subcategory  \\\n",
       "1     https://letstalk.mindline.sg/t/mentally-isolat...       Is This Normal?   \n",
       "2     https://letstalk.mindline.sg/t/mentally-isolat...       Is This Normal?   \n",
       "3     https://letstalk.mindline.sg/t/mentally-isolat...       Is This Normal?   \n",
       "4     https://letstalk.mindline.sg/t/mentally-isolat...       Is This Normal?   \n",
       "7     https://letstalk.mindline.sg/t/how-to-cope-wit...          Seeking Help   \n",
       "...                                                 ...                   ...   \n",
       "3272  https://letstalk.mindline.sg/t/i-feel-so-lonel...       Is This Normal?   \n",
       "3275  https://letstalk.mindline.sg/t/thinking-about-...          Seeking Help   \n",
       "3276  https://letstalk.mindline.sg/t/thinking-about-...          Seeking Help   \n",
       "3280  https://letstalk.mindline.sg/t/what-do-i-do-in...  Treatment & Recovery   \n",
       "3281  https://letstalk.mindline.sg/t/what-do-i-do-in...  Treatment & Recovery   \n",
       "\n",
       "                                tags  user_id        username     user_role  \\\n",
       "1                                ---    12128           Sonja          User   \n",
       "2                                ---    11047       CaringBee  Professional   \n",
       "3                                ---    12128           Sonja          User   \n",
       "4                                ---    12289     terravolt43          User   \n",
       "7                         needadvice    12317        user1306          User   \n",
       "...                              ...      ...             ...           ...   \n",
       "3272                             ---       61          JasonQ          User   \n",
       "3275                             ---       82           Irsdi          User   \n",
       "3276                             ---       61          JasonQ          User   \n",
       "3280  mentalhealth, therapy, healing       64  mrpeanutbutter          User   \n",
       "3281  mentalhealth, therapy, healing       42         tehbing          User   \n",
       "\n",
       "                    user_title  post_id  post_order  \\\n",
       "1                          NaN    22902           1   \n",
       "2        The Source of Comfort    22918           2   \n",
       "3                          NaN    24145           3   \n",
       "4                          NaN    24154           4   \n",
       "7                          NaN    23644           1   \n",
       "...                        ...      ...         ...   \n",
       "3272  Professional (Moderator)      671           2   \n",
       "3275                       NaN      628           1   \n",
       "3276  Professional (Moderator)      629           2   \n",
       "3280                       NaN      449           1   \n",
       "3281  Professional (Moderator)      453           2   \n",
       "\n",
       "                                           post_content  \\\n",
       "1     I recently realised that friends and family ar...   \n",
       "2     Hi Sonja\\nThank you for your courage to reach ...   \n",
       "3     Thank you for the much appreciated advice! Sad...   \n",
       "4     Hi Sonja,\\nThanks for confiding here. Sorry to...   \n",
       "7     I’ve been making few mistakes for the past 2 m...   \n",
       "...                                                 ...   \n",
       "3272  Hi there; thank you for sharing your situation...   \n",
       "3275  Is it normal for me to hesitate to seek for pr...   \n",
       "3276  Hi there, thank you for raising this question....   \n",
       "3280  I realise this sounds ridiculous, but my issue...   \n",
       "3281  Hello there. First off, there’s absolutely not...   \n",
       "\n",
       "                                          links_in_post  num_likes  \\\n",
       "1                                                   NaN          0   \n",
       "2                                                   NaN          0   \n",
       "3                                                   NaN          0   \n",
       "4                                                   NaN          0   \n",
       "7                                                   NaN          0   \n",
       "...                                                 ...        ...   \n",
       "3272  THE BUTTERFLY EFFECT: HOW SMALL CHANGES LEAD T...          0   \n",
       "3275                                                NaN          1   \n",
       "3276  13 Tips to Help You Prepare for Your First The...          0   \n",
       "3280                                                NaN          0   \n",
       "3281                                                NaN          4   \n",
       "\n",
       "      accepted_ans_post_id replied_to_post_id  replied_to_post_id_direct  \\\n",
       "1                  22918.0                NaN                        NaN   \n",
       "2                      NaN                NaN                        NaN   \n",
       "3                      NaN                NaN                        NaN   \n",
       "4                      NaN                NaN                        NaN   \n",
       "7                      NaN                NaN                        NaN   \n",
       "...                    ...                ...                        ...   \n",
       "3272                   NaN                NaN                        NaN   \n",
       "3275                   NaN                NaN                        NaN   \n",
       "3276                   NaN                NaN                        NaN   \n",
       "3280                   NaN                NaN                        NaN   \n",
       "3281                   NaN                NaN                        NaN   \n",
       "\n",
       "      replied_to_post_id_soft quoted_post_id  \n",
       "1                         NaN            NaN  \n",
       "2                         NaN            NaN  \n",
       "3                         NaN            NaN  \n",
       "4                         NaN            NaN  \n",
       "7                         NaN            NaN  \n",
       "...                       ...            ...  \n",
       "3272                      NaN            NaN  \n",
       "3275                      NaN            NaN  \n",
       "3276                      NaN            NaN  \n",
       "3280                      NaN            NaN  \n",
       "3281                      NaN            NaN  \n",
       "\n",
       "[2393 rows x 19 columns]"
      ]
     },
     "execution_count": 28,
     "metadata": {},
     "output_type": "execute_result"
    }
   ],
   "source": [
    "new_df_filtered "
   ]
  },
  {
   "cell_type": "code",
   "execution_count": 29,
   "metadata": {},
   "outputs": [
    {
     "data": {
      "text/plain": [
       "subcategory\n",
       "Coping                       88\n",
       "Is This Normal?             163\n",
       "Mental Health Conditions     41\n",
       "Seeking Help                269\n",
       "Signs and Symptoms           18\n",
       "Treatment & Recovery         16\n",
       "Name: topic_id, dtype: int64"
      ]
     },
     "execution_count": 29,
     "metadata": {},
     "output_type": "execute_result"
    }
   ],
   "source": [
    "new_df_filtered[new_df_filtered[\"post_order\"] == 1].groupby([\"subcategory\"])[\"topic_id\"].count()"
   ]
  },
  {
   "cell_type": "code",
   "execution_count": 30,
   "metadata": {},
   "outputs": [],
   "source": [
    "new_df_filtered.to_csv(\"./data/forum/forum_data_for_dialogue_generation.csv\", index=False)"
   ]
  }
 ],
 "metadata": {
  "kernelspec": {
   "display_name": "venv",
   "language": "python",
   "name": "python3"
  },
  "language_info": {
   "codemirror_mode": {
    "name": "ipython",
    "version": 3
   },
   "file_extension": ".py",
   "mimetype": "text/x-python",
   "name": "python",
   "nbconvert_exporter": "python",
   "pygments_lexer": "ipython3",
   "version": "3.11.7"
  }
 },
 "nbformat": 4,
 "nbformat_minor": 2
}
